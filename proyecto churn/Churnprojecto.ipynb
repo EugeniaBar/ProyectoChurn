{
 "cells": [
  {
   "cell_type": "code",
   "execution_count": 1,
   "id": "8b8aa662-5ab2-4d23-b1de-80d964877948",
   "metadata": {},
   "outputs": [],
   "source": [
    "import pandas as pd\n",
    "import matplotlib.pyplot as plt\n",
    "import seaborn as sns\n"
   ]
  },
  {
   "cell_type": "markdown",
   "id": "1950e3ee-260f-4cd0-9b25-4f45e9270beb",
   "metadata": {},
   "source": [
    "### 1. Comprensión del Negocio y los Datos\n",
    " Cargar el dataset, entender qué es Churn (\"Yes\" o \"No\"), identificar el tipo de variables (categóricas vs. numéricas) y buscar datos faltantes (TotalCharges)."
   ]
  },
  {
   "cell_type": "code",
   "execution_count": 2,
   "id": "235ea625-e21b-4ac7-bb70-205a9b11aac6",
   "metadata": {},
   "outputs": [
    {
     "name": "stdout",
     "output_type": "stream",
     "text": [
      "(7043, 20)\n"
     ]
    },
    {
     "data": {
      "text/html": [
       "<div>\n",
       "<style scoped>\n",
       "    .dataframe tbody tr th:only-of-type {\n",
       "        vertical-align: middle;\n",
       "    }\n",
       "\n",
       "    .dataframe tbody tr th {\n",
       "        vertical-align: top;\n",
       "    }\n",
       "\n",
       "    .dataframe thead th {\n",
       "        text-align: right;\n",
       "    }\n",
       "</style>\n",
       "<table border=\"1\" class=\"dataframe\">\n",
       "  <thead>\n",
       "    <tr style=\"text-align: right;\">\n",
       "      <th></th>\n",
       "      <th>gender</th>\n",
       "      <th>SeniorCitizen</th>\n",
       "      <th>Partner</th>\n",
       "      <th>Dependents</th>\n",
       "      <th>tenure</th>\n",
       "      <th>PhoneService</th>\n",
       "      <th>MultipleLines</th>\n",
       "      <th>InternetService</th>\n",
       "      <th>OnlineSecurity</th>\n",
       "      <th>OnlineBackup</th>\n",
       "      <th>DeviceProtection</th>\n",
       "      <th>TechSupport</th>\n",
       "      <th>StreamingTV</th>\n",
       "      <th>StreamingMovies</th>\n",
       "      <th>Contract</th>\n",
       "      <th>PaperlessBilling</th>\n",
       "      <th>PaymentMethod</th>\n",
       "      <th>MonthlyCharges</th>\n",
       "      <th>TotalCharges</th>\n",
       "      <th>Churn</th>\n",
       "    </tr>\n",
       "  </thead>\n",
       "  <tbody>\n",
       "    <tr>\n",
       "      <th>0</th>\n",
       "      <td>Female</td>\n",
       "      <td>0</td>\n",
       "      <td>Yes</td>\n",
       "      <td>No</td>\n",
       "      <td>1</td>\n",
       "      <td>No</td>\n",
       "      <td>No phone service</td>\n",
       "      <td>DSL</td>\n",
       "      <td>No</td>\n",
       "      <td>Yes</td>\n",
       "      <td>No</td>\n",
       "      <td>No</td>\n",
       "      <td>No</td>\n",
       "      <td>No</td>\n",
       "      <td>Month-to-month</td>\n",
       "      <td>Yes</td>\n",
       "      <td>Electronic check</td>\n",
       "      <td>29.85</td>\n",
       "      <td>29.85</td>\n",
       "      <td>No</td>\n",
       "    </tr>\n",
       "    <tr>\n",
       "      <th>1</th>\n",
       "      <td>Male</td>\n",
       "      <td>0</td>\n",
       "      <td>No</td>\n",
       "      <td>No</td>\n",
       "      <td>34</td>\n",
       "      <td>Yes</td>\n",
       "      <td>No</td>\n",
       "      <td>DSL</td>\n",
       "      <td>Yes</td>\n",
       "      <td>No</td>\n",
       "      <td>Yes</td>\n",
       "      <td>No</td>\n",
       "      <td>No</td>\n",
       "      <td>No</td>\n",
       "      <td>One year</td>\n",
       "      <td>No</td>\n",
       "      <td>Mailed check</td>\n",
       "      <td>56.95</td>\n",
       "      <td>1889.5</td>\n",
       "      <td>No</td>\n",
       "    </tr>\n",
       "    <tr>\n",
       "      <th>2</th>\n",
       "      <td>Male</td>\n",
       "      <td>0</td>\n",
       "      <td>No</td>\n",
       "      <td>No</td>\n",
       "      <td>2</td>\n",
       "      <td>Yes</td>\n",
       "      <td>No</td>\n",
       "      <td>DSL</td>\n",
       "      <td>Yes</td>\n",
       "      <td>Yes</td>\n",
       "      <td>No</td>\n",
       "      <td>No</td>\n",
       "      <td>No</td>\n",
       "      <td>No</td>\n",
       "      <td>Month-to-month</td>\n",
       "      <td>Yes</td>\n",
       "      <td>Mailed check</td>\n",
       "      <td>53.85</td>\n",
       "      <td>108.15</td>\n",
       "      <td>Yes</td>\n",
       "    </tr>\n",
       "    <tr>\n",
       "      <th>3</th>\n",
       "      <td>Male</td>\n",
       "      <td>0</td>\n",
       "      <td>No</td>\n",
       "      <td>No</td>\n",
       "      <td>45</td>\n",
       "      <td>No</td>\n",
       "      <td>No phone service</td>\n",
       "      <td>DSL</td>\n",
       "      <td>Yes</td>\n",
       "      <td>No</td>\n",
       "      <td>Yes</td>\n",
       "      <td>Yes</td>\n",
       "      <td>No</td>\n",
       "      <td>No</td>\n",
       "      <td>One year</td>\n",
       "      <td>No</td>\n",
       "      <td>Bank transfer (automatic)</td>\n",
       "      <td>42.30</td>\n",
       "      <td>1840.75</td>\n",
       "      <td>No</td>\n",
       "    </tr>\n",
       "    <tr>\n",
       "      <th>4</th>\n",
       "      <td>Female</td>\n",
       "      <td>0</td>\n",
       "      <td>No</td>\n",
       "      <td>No</td>\n",
       "      <td>2</td>\n",
       "      <td>Yes</td>\n",
       "      <td>No</td>\n",
       "      <td>Fiber optic</td>\n",
       "      <td>No</td>\n",
       "      <td>No</td>\n",
       "      <td>No</td>\n",
       "      <td>No</td>\n",
       "      <td>No</td>\n",
       "      <td>No</td>\n",
       "      <td>Month-to-month</td>\n",
       "      <td>Yes</td>\n",
       "      <td>Electronic check</td>\n",
       "      <td>70.70</td>\n",
       "      <td>151.65</td>\n",
       "      <td>Yes</td>\n",
       "    </tr>\n",
       "  </tbody>\n",
       "</table>\n",
       "</div>"
      ],
      "text/plain": [
       "   gender  SeniorCitizen Partner Dependents  tenure PhoneService  \\\n",
       "0  Female              0     Yes         No       1           No   \n",
       "1    Male              0      No         No      34          Yes   \n",
       "2    Male              0      No         No       2          Yes   \n",
       "3    Male              0      No         No      45           No   \n",
       "4  Female              0      No         No       2          Yes   \n",
       "\n",
       "      MultipleLines InternetService OnlineSecurity OnlineBackup  \\\n",
       "0  No phone service             DSL             No          Yes   \n",
       "1                No             DSL            Yes           No   \n",
       "2                No             DSL            Yes          Yes   \n",
       "3  No phone service             DSL            Yes           No   \n",
       "4                No     Fiber optic             No           No   \n",
       "\n",
       "  DeviceProtection TechSupport StreamingTV StreamingMovies        Contract  \\\n",
       "0               No          No          No              No  Month-to-month   \n",
       "1              Yes          No          No              No        One year   \n",
       "2               No          No          No              No  Month-to-month   \n",
       "3              Yes         Yes          No              No        One year   \n",
       "4               No          No          No              No  Month-to-month   \n",
       "\n",
       "  PaperlessBilling              PaymentMethod  MonthlyCharges TotalCharges  \\\n",
       "0              Yes           Electronic check           29.85        29.85   \n",
       "1               No               Mailed check           56.95       1889.5   \n",
       "2              Yes               Mailed check           53.85       108.15   \n",
       "3               No  Bank transfer (automatic)           42.30      1840.75   \n",
       "4              Yes           Electronic check           70.70       151.65   \n",
       "\n",
       "  Churn  \n",
       "0    No  \n",
       "1    No  \n",
       "2   Yes  \n",
       "3    No  \n",
       "4   Yes  "
      ]
     },
     "execution_count": 2,
     "metadata": {},
     "output_type": "execute_result"
    }
   ],
   "source": [
    "# Descomprimir el ZIP (ajustá el nombre según tu archivo)\n",
    "#!unzip -o Telco-Customer-Churn.zip\n",
    "\n",
    "df = pd.read_csv(\"WA_Fn-UseC_-Telco-Customer-Churn.csv\")\n",
    "\n",
    "# Exploramos\n",
    "print(df.shape)\n",
    "df.head()\n"
   ]
  },
  {
   "cell_type": "code",
   "execution_count": 3,
   "id": "d6fe063f-7852-477e-b831-1c82120c2dbf",
   "metadata": {},
   "outputs": [
    {
     "name": "stdout",
     "output_type": "stream",
     "text": [
      "<class 'pandas.core.frame.DataFrame'>\n",
      "RangeIndex: 7043 entries, 0 to 7042\n",
      "Data columns (total 20 columns):\n",
      " #   Column            Non-Null Count  Dtype  \n",
      "---  ------            --------------  -----  \n",
      " 0   gender            7043 non-null   object \n",
      " 1   SeniorCitizen     7043 non-null   int64  \n",
      " 2   Partner           7043 non-null   object \n",
      " 3   Dependents        7043 non-null   object \n",
      " 4   tenure            7043 non-null   int64  \n",
      " 5   PhoneService      7043 non-null   object \n",
      " 6   MultipleLines     7043 non-null   object \n",
      " 7   InternetService   7043 non-null   object \n",
      " 8   OnlineSecurity    7043 non-null   object \n",
      " 9   OnlineBackup      7043 non-null   object \n",
      " 10  DeviceProtection  7043 non-null   object \n",
      " 11  TechSupport       7043 non-null   object \n",
      " 12  StreamingTV       7043 non-null   object \n",
      " 13  StreamingMovies   7043 non-null   object \n",
      " 14  Contract          7043 non-null   object \n",
      " 15  PaperlessBilling  7043 non-null   object \n",
      " 16  PaymentMethod     7043 non-null   object \n",
      " 17  MonthlyCharges    7043 non-null   float64\n",
      " 18  TotalCharges      7043 non-null   object \n",
      " 19  Churn             7043 non-null   object \n",
      "dtypes: float64(1), int64(2), object(17)\n",
      "memory usage: 1.1+ MB\n",
      "Dimensiones del dataset: (7043, 20)\n",
      "\n",
      "Tipos de datos:\n",
      "object     17\n",
      "int64       2\n",
      "float64     1\n",
      "Name: count, dtype: int64\n",
      "\n",
      "Valores nulos por columna:\n",
      "gender              0\n",
      "SeniorCitizen       0\n",
      "Partner             0\n",
      "Dependents          0\n",
      "tenure              0\n",
      "PhoneService        0\n",
      "MultipleLines       0\n",
      "InternetService     0\n",
      "OnlineSecurity      0\n",
      "OnlineBackup        0\n",
      "DeviceProtection    0\n",
      "TechSupport         0\n",
      "StreamingTV         0\n",
      "StreamingMovies     0\n",
      "Contract            0\n",
      "PaperlessBilling    0\n",
      "PaymentMethod       0\n",
      "MonthlyCharges      0\n",
      "TotalCharges        0\n",
      "Churn               0\n",
      "dtype: int64\n",
      "\n",
      "Valores duplicados:\n"
     ]
    },
    {
     "data": {
      "text/plain": [
       "0       False\n",
       "1       False\n",
       "2       False\n",
       "3       False\n",
       "4       False\n",
       "        ...  \n",
       "7038    False\n",
       "7039    False\n",
       "7040    False\n",
       "7041    False\n",
       "7042    False\n",
       "Length: 7043, dtype: bool"
      ]
     },
     "execution_count": 3,
     "metadata": {},
     "output_type": "execute_result"
    }
   ],
   "source": [
    "#1. Información general\n",
    "\n",
    "df.info()\n",
    "# ============================\n",
    "print(\"Dimensiones del dataset:\", df.shape)\n",
    "print(\"\\nTipos de datos:\")\n",
    "print(df.dtypes.value_counts())\n",
    "\n",
    "print(\"\\nValores nulos por columna:\")\n",
    "print(df.isnull().sum())\n",
    "\n",
    "print (\"\\nValores duplicados:\")\n",
    "(df.duplicated().sum())\n",
    "df.duplicated()\n",
    "\n"
   ]
  },
  {
   "cell_type": "code",
   "execution_count": 4,
   "id": "f58d9d32-1cfc-4b25-8d51-7919964bbb50",
   "metadata": {},
   "outputs": [],
   "source": [
    "# copia deldf para una buena práctica.\n",
    "dfraw = df.copy()\n"
   ]
  },
  {
   "cell_type": "markdown",
   "id": "d0dbc1a9-ab1f-4911-b0b3-7c9d1bb23ce9",
   "metadata": {},
   "source": [
    "## 2. Limpieza de Datos (Data Preprocessing)"
   ]
  },
  {
   "cell_type": "code",
   "execution_count": 5,
   "id": "5962aa65-fcbb-4f84-aa7f-a1922eeff2ce",
   "metadata": {},
   "outputs": [
    {
     "name": "stdout",
     "output_type": "stream",
     "text": [
      "Index(['gender', 'SeniorCitizen', 'Partner', 'Dependents', 'tenure'], dtype='object')\n"
     ]
    }
   ],
   "source": [
    "# Muestra las primeras 5 columnas para verificar\n",
    "print(df.columns[:5])"
   ]
  },
  {
   "cell_type": "code",
   "execution_count": 6,
   "id": "c45bf183-92aa-49aa-85d4-edd17bce2b2b",
   "metadata": {},
   "outputs": [],
   "source": [
    "#este codigo elimina todos los valores nulos que puede tener una columna\n",
    "df.dropna(axis =\"columns\", how= \"all\", inplace=True)\n",
    "#display (df.head())\n"
   ]
  },
  {
   "cell_type": "code",
   "execution_count": 7,
   "id": "db4f44ca-6eac-4bba-905f-ffe078a7e2af",
   "metadata": {},
   "outputs": [
    {
     "name": "stdout",
     "output_type": "stream",
     "text": [
      "gender              0\n",
      "SeniorCitizen       0\n",
      "Partner             0\n",
      "Dependents          0\n",
      "tenure              0\n",
      "PhoneService        0\n",
      "MultipleLines       0\n",
      "InternetService     0\n",
      "OnlineSecurity      0\n",
      "OnlineBackup        0\n",
      "DeviceProtection    0\n",
      "TechSupport         0\n",
      "StreamingTV         0\n",
      "StreamingMovies     0\n",
      "Contract            0\n",
      "PaperlessBilling    0\n",
      "PaymentMethod       0\n",
      "MonthlyCharges      0\n",
      "TotalCharges        0\n",
      "Churn               0\n",
      "dtype: int64\n"
     ]
    }
   ],
   "source": [
    "#primero observamos los nan que quedan en cada columna\n",
    "print(df.isnull().sum())"
   ]
  },
  {
   "cell_type": "code",
   "execution_count": 8,
   "id": "a45e77a7-d055-4007-a965-aa95637700a9",
   "metadata": {},
   "outputs": [],
   "source": [
    "#si hubiese serian remplazado, por media o por otro valor:\n",
    "#df_clima.fillna(0, inplace=True)\n",
    "#(df_clima)"
   ]
  },
  {
   "cell_type": "code",
   "execution_count": 9,
   "id": "8cf6c133-0484-4fae-8430-85b15b2b8f4b",
   "metadata": {},
   "outputs": [
    {
     "name": "stdout",
     "output_type": "stream",
     "text": [
      "0\n",
      "11\n"
     ]
    }
   ],
   "source": [
    "# Revisar la columna TotalCharges\n",
    "print(df[\"TotalCharges\"].isnull().sum())   # NaN \"reales\"\n",
    "print((df[\"TotalCharges\"] == \" \").sum())   # Espacios en blanco"
   ]
  },
  {
   "cell_type": "markdown",
   "id": "65bf33ab-dcda-40d6-bedf-c33599ed20be",
   "metadata": {},
   "source": [
    "Columna de totalcharges contenìa espacios vacios, fueron cambiados a nulos. y luego eliminadas"
   ]
  },
  {
   "cell_type": "code",
   "execution_count": 10,
   "id": "99eb2dc3-8c08-4395-aaa7-9fe20b56fb9a",
   "metadata": {},
   "outputs": [],
   "source": [
    "# La clave es 'errors=\"coerce\"'. Esto convierte los espacios vacíos (\" \") en NaN (valores nulos)\n",
    "df[\"TotalCharges\"] = pd.to_numeric(df[\"TotalCharges\"], errors=\"coerce\")\n",
    "\n",
    "# Ahora que tenemos nuevos Nan hay que deshasernos para evitar que falle enentrenamiento o normalización.\n",
    "df.dropna(subset=[\"TotalCharges\"], inplace=True)"
   ]
  },
  {
   "cell_type": "code",
   "execution_count": 11,
   "id": "f63fa077-f789-4dbd-9f3f-0c8be3356334",
   "metadata": {},
   "outputs": [
    {
     "name": "stdout",
     "output_type": "stream",
     "text": [
      "Valores nulos después de limpieza:\n",
      "0\n",
      "Nuevo tamaño del dataset: (7032, 20)\n"
     ]
    }
   ],
   "source": [
    "# Verificamos\n",
    "print(\"Valores nulos después de limpieza:\")\n",
    "print(df.isnull().sum().sum())\n",
    "\n",
    "print(\"Nuevo tamaño del dataset:\", df.shape)"
   ]
  },
  {
   "cell_type": "markdown",
   "id": "b6ee00d8-d5ce-4305-930b-93d865dda4d3",
   "metadata": {},
   "source": [
    "Resumen:\n",
    "\n",
    "TotalCharges queda lista como variable numérica.\n",
    "\n",
    "Se eliminan solo esas 11 filas.\n",
    "\n",
    "El dataset queda limpio, sin nulos. ✅\n"
   ]
  },
  {
   "cell_type": "markdown",
   "id": "6eb1506e-bfbd-4d20-92b5-605574408234",
   "metadata": {},
   "source": [
    "## EDA\n",
    "\n",
    "El Momento Correcto para el EDA del Dashboard\n",
    "\n",
    "El EDA en un dashboard tiene un objetivo de comunicación. Siempre se debe mostrar gráficos y métricas basados en datos que ya son confiables y utilizables."
   ]
  },
  {
   "cell_type": "markdown",
   "id": "559f5d74-3684-41a5-b56d-781b8d9767b7",
   "metadata": {},
   "source": [
    "Crear gráficos que respondan: ¿Quiénes se van? (ej. Gráfico de Churn por Contrato, por Servicio de Internet, por MonthlyCharges). Estos son los gráficos que irán a tu dashboard."
   ]
  },
  {
   "cell_type": "code",
   "execution_count": 12,
   "id": "a4154794-58e3-4b61-9324-125747ae06f2",
   "metadata": {},
   "outputs": [
    {
     "data": {
      "text/html": [
       "<div>\n",
       "<style scoped>\n",
       "    .dataframe tbody tr th:only-of-type {\n",
       "        vertical-align: middle;\n",
       "    }\n",
       "\n",
       "    .dataframe tbody tr th {\n",
       "        vertical-align: top;\n",
       "    }\n",
       "\n",
       "    .dataframe thead th {\n",
       "        text-align: right;\n",
       "    }\n",
       "</style>\n",
       "<table border=\"1\" class=\"dataframe\">\n",
       "  <thead>\n",
       "    <tr style=\"text-align: right;\">\n",
       "      <th></th>\n",
       "      <th>SeniorCitizen</th>\n",
       "      <th>tenure</th>\n",
       "      <th>MonthlyCharges</th>\n",
       "      <th>TotalCharges</th>\n",
       "    </tr>\n",
       "  </thead>\n",
       "  <tbody>\n",
       "    <tr>\n",
       "      <th>count</th>\n",
       "      <td>7032.000000</td>\n",
       "      <td>7032.000000</td>\n",
       "      <td>7032.000000</td>\n",
       "      <td>7032.000000</td>\n",
       "    </tr>\n",
       "    <tr>\n",
       "      <th>mean</th>\n",
       "      <td>0.162400</td>\n",
       "      <td>32.421786</td>\n",
       "      <td>64.798208</td>\n",
       "      <td>2283.300441</td>\n",
       "    </tr>\n",
       "    <tr>\n",
       "      <th>std</th>\n",
       "      <td>0.368844</td>\n",
       "      <td>24.545260</td>\n",
       "      <td>30.085974</td>\n",
       "      <td>2266.771362</td>\n",
       "    </tr>\n",
       "    <tr>\n",
       "      <th>min</th>\n",
       "      <td>0.000000</td>\n",
       "      <td>1.000000</td>\n",
       "      <td>18.250000</td>\n",
       "      <td>18.800000</td>\n",
       "    </tr>\n",
       "    <tr>\n",
       "      <th>25%</th>\n",
       "      <td>0.000000</td>\n",
       "      <td>9.000000</td>\n",
       "      <td>35.587500</td>\n",
       "      <td>401.450000</td>\n",
       "    </tr>\n",
       "    <tr>\n",
       "      <th>50%</th>\n",
       "      <td>0.000000</td>\n",
       "      <td>29.000000</td>\n",
       "      <td>70.350000</td>\n",
       "      <td>1397.475000</td>\n",
       "    </tr>\n",
       "    <tr>\n",
       "      <th>75%</th>\n",
       "      <td>0.000000</td>\n",
       "      <td>55.000000</td>\n",
       "      <td>89.862500</td>\n",
       "      <td>3794.737500</td>\n",
       "    </tr>\n",
       "    <tr>\n",
       "      <th>max</th>\n",
       "      <td>1.000000</td>\n",
       "      <td>72.000000</td>\n",
       "      <td>118.750000</td>\n",
       "      <td>8684.800000</td>\n",
       "    </tr>\n",
       "  </tbody>\n",
       "</table>\n",
       "</div>"
      ],
      "text/plain": [
       "       SeniorCitizen       tenure  MonthlyCharges  TotalCharges\n",
       "count    7032.000000  7032.000000     7032.000000   7032.000000\n",
       "mean        0.162400    32.421786       64.798208   2283.300441\n",
       "std         0.368844    24.545260       30.085974   2266.771362\n",
       "min         0.000000     1.000000       18.250000     18.800000\n",
       "25%         0.000000     9.000000       35.587500    401.450000\n",
       "50%         0.000000    29.000000       70.350000   1397.475000\n",
       "75%         0.000000    55.000000       89.862500   3794.737500\n",
       "max         1.000000    72.000000      118.750000   8684.800000"
      ]
     },
     "execution_count": 12,
     "metadata": {},
     "output_type": "execute_result"
    }
   ],
   "source": [
    "df.describe()"
   ]
  },
  {
   "cell_type": "code",
   "execution_count": 14,
   "id": "44c2dbb1-3529-407f-ba08-acb7e5650ea6",
   "metadata": {},
   "outputs": [
    {
     "name": "stderr",
     "output_type": "stream",
     "text": [
      "/tmp/ipykernel_4499/3566699868.py:3: FutureWarning: \n",
      "\n",
      "Passing `palette` without assigning `hue` is deprecated and will be removed in v0.14.0. Assign the `x` variable to `hue` and set `legend=False` for the same effect.\n",
      "\n",
      "  sns.countplot(x=\"Churn\", data=df, palette=\"Set2\")\n"
     ]
    },
    {
     "data": {
      "image/png": "[encoded data removed]",
      "text/plain": [
       "<Figure size 500x400 with 1 Axes>"
      ]
     },
     "metadata": {},
     "output_type": "display_data"
    },
    {
     "name": "stdout",
     "output_type": "stream",
     "text": [
      "\n",
      "Proporción de Churn:\n",
      "Churn\n",
      "No     0.734215\n",
      "Yes    0.265785\n",
      "Name: proportion, dtype: float64\n"
     ]
    }
   ],
   "source": [
    "#Distribución de la variable objetivo (Churn)\n",
    "plt.figure(figsize=(5,4))\n",
    "sns.countplot(x=\"Churn\", data=df, palette=\"Set2\")\n",
    "plt.title(\"Distribución de clientes que cancelaron (Churn)\")\n",
    "plt.show()\n",
    "\n",
    "print(\"\\nProporción de Churn:\")\n",
    "print(df[\"Churn\"].value_counts(normalize=True))\n"
   ]
  },
  {
   "cell_type": "markdown",
   "id": "61a23ea1-6c08-41dd-b922-461f2ab65833",
   "metadata": {},
   "source": [
    "Ese código crea un histograma que muestra que los clientes nuevos (baja tenure o antigüedad) y los clientes muy antiguos (alta tenure) tienen patrones de abandono diferentes."
   ]
  },
  {
   "cell_type": "markdown",
   "id": "5d7a73f5-bd41-4b60-9a75-59f6e06e2fe0",
   "metadata": {},
   "source": [
    "Distribución de Churn por Antigüedad (Tenure)\n",
    "\n",
    "Este gráfico es clave para entender la rentabilidad y la sensibilidad al precio de diferentes segmentos de clientes.\n",
    "\n",
    "    Mayor Riesgo en el Extremo Alto: Existe una clara tendencia a que el churn sea significativamente más alto entre los clientes que pagan las tarifas mensuales más elevadas (generalmente por encima de 80a80a100).\n",
    "\n",
    "    Implicación de Negocio: Estos clientes, que a menudo usan paquetes \"premium\" o servicios de alta velocidad como Fibra Óptica, son los más exigentes con la calidad y los más sensibles a las ofertas de la competencia. Si pagan más, esperan un servicio impecable.\n",
    "\n",
    "    Estrategia: La compañía debe enfocar sus esfuerzos de retención no solo en los clientes Mes a Mes, sino también en garantizar la calidad a este segmento de alto valor, ya que su abandono representa la mayor pérdida potencial de ingresos.\n"
   ]
  },
  {
   "cell_type": "code",
   "execution_count": 15,
   "id": "0c8d0d67-c010-4945-a488-063d867caa14",
   "metadata": {},
   "outputs": [
    {
     "data": {
      "image/png": "[encoded data removed]",
      "text/plain": [
       "<Figure size 600x400 with 1 Axes>"
      ]
     },
     "metadata": {},
     "output_type": "display_data"
    }
   ],
   "source": [
    "# Ejemplo de comparación: Churn vs Tenure (tiempo de cliente)\n",
    "plt.figure(figsize=(6,4))\n",
    "sns.histplot(data=df, x=\"tenure\", hue=\"Churn\", multiple=\"stack\", bins=30, palette=\"Set1\")\n",
    "plt.title(\"Distribución de Tenure por Churn\")\n",
    "plt.show()"
   ]
  },
  {
   "cell_type": "markdown",
   "id": "4e365006-e579-42b9-8164-222958c053ab",
   "metadata": {},
   "source": [
    "Churn por Tipo de Contrato\n",
    "\n",
    "El tipo de contrato es el predictor individual más fuerte de abandono.\n",
    "\n",
    "    Alto Riesgo: Los clientes con contrato 'Month-to-month' (Mes a Mes) son, por mucho, el grupo más volátil. Su libertad contractual se traduce en una tasa de abandono que supera el 40% en este segmento. Son altamente sensibles a la competencia y a cualquier insatisfacción.\n",
    "    Bajo Riesgo: Los contratos de 'One year' y 'Two year' son la base de la retención. La inversión en incentivar estos contratos a largo plazo se justifica, ya que sus tasas de churn son significativamente más bajas (generalmente inferiores al 15%), asegurando la lealtad del cliente.\n"
   ]
  },
  {
   "cell_type": "code",
   "execution_count": 16,
   "id": "fb28e9d4-b1b9-487b-a38a-bb03cdcec158",
   "metadata": {},
   "outputs": [
    {
     "data": {
      "image/png": "[encoded data removed]",
      "text/plain": [
       "<Figure size 600x400 with 1 Axes>"
      ]
     },
     "metadata": {},
     "output_type": "display_data"
    }
   ],
   "source": [
    "#  Relación entre Churn y tipo de contrato\n",
    "plt.figure(figsize=(6,4))\n",
    "sns.countplot(x=\"Contract\", hue=\"Churn\", data=df, palette=\"Set2\")\n",
    "plt.title(\"Churn según tipo de contrato\")\n",
    "plt.show()\n"
   ]
  },
  {
   "cell_type": "markdown",
   "id": "387068ee-731e-43dd-aec7-a2a9c4b09575",
   "metadata": {},
   "source": [
    "## 4.Ingeniería de Variables y Pipelines\n",
    "Automatización y Preparación para el Modelo\n",
    "Buena Práctica: Convertir variables categóricas a numéricas (One-Hot Encoding con pd.get_dummies o OneHotEncoder). Automatización Clave: Crear un Pipeline de Scikit-learn para encapsular la normalización (StandardScaler) y la codificación. Esto garantiza que los datos nuevos (futuros) se limpien exactamente igual que los datos de entrenamiento."
   ]
  },
  {
   "cell_type": "code",
   "execution_count": 17,
   "id": "124cf032-3a45-4b94-803e-506546378e61",
   "metadata": {},
   "outputs": [
    {
     "name": "stderr",
     "output_type": "stream",
     "text": [
      "/tmp/ipykernel_4499/1098813458.py:10: FutureWarning: Downcasting behavior in `replace` is deprecated and will be removed in a future version. To retain the old behavior, explicitly call `result.infer_objects(copy=False)`. To opt-in to the future behavior, set `pd.set_option('future.no_silent_downcasting', True)`\n",
      "  y = y.replace({'Yes': 1, 'No': 0})\n"
     ]
    }
   ],
   "source": [
    "from sklearn.pipeline import Pipeline\n",
    "from sklearn.preprocessing import StandardScaler, OneHotEncoder\n",
    "from sklearn.compose import ColumnTransformer\n",
    "from sklearn.linear_model import LogisticRegression\n",
    "# 1. Separar features (X) de target (y)\n",
    "X = df.drop('Churn', axis=1) \n",
    "y = df['Churn'] \n",
    "\n",
    "# 2. Convertir la variable target 'Churn' a binaria (0/1) si aún no lo has hecho\n",
    "y = y.replace({'Yes': 1, 'No': 0})\n",
    "\n",
    "# 3. Codificación de Variables Categóricas (¡Usamos get_dummies!)\n",
    "# Esto crea las nuevas columnas codificadas y ELIMINA las originales.\n",
    "X_encoded = pd.get_dummies(X, drop_first=True) \n",
    "\n",
    "# 4. Dividir los datos (Usamos el DataFrame CODIFICADO)\n",
    "from sklearn.model_selection import train_test_split\n",
    "X_train, X_test, y_train, y_test = train_test_split(X_encoded, y, test_size=0.2, random_state=42)\n",
    "\n",
    "# 5. Normalizar las columnas numéricas que quedan (después de la codificación)\n",
    "from sklearn.preprocessing import StandardScaler\n",
    "scaler = StandardScaler()\n",
    "cols_num = [\"tenure\", \"MonthlyCharges\", \"TotalCharges\"] # Solo estas 3 son numéricas\n",
    "\n",
    "# Ajustar y transformar solo a X_train\n",
    "X_train[cols_num] = scaler.fit_transform(X_train[cols_num])\n",
    "\n",
    "# Transformar a X_test usando el fit de X_train\n",
    "X_test[cols_num] = scaler.transform(X_test[cols_num])"
   ]
  },
  {
   "cell_type": "markdown",
   "id": "13dfc8dc-c65e-41ad-859c-33d535b4c4bb",
   "metadata": {},
   "source": [
    "### 5. Modelado y Evaluación\n",
    "Dividir los datos (X_train, X_test). Entrenar la Regresión Logística. Obtener y guardar las métricas clave (Precision, Recall, F1, ROC-AUC). Guardar el modelo entrenado (log_model → modelo_final.pkl).\n",
    "\n",
    "\n",
    "Churn significa pérdida de clientes. En este dataset de telecomunicaciones, Churn indica si un cliente dejó el servicio (Yes) o se quedó (No).\n",
    "\n",
    "👉 Lo que queremos es predecir qué clientes probablemente se vayan en el futuro, para que la empresa pueda actuar antes (ej: ofrecer descuentos, mejor atención, nuevos planes)."
   ]
  },
  {
   "cell_type": "markdown",
   "id": "11db4fd9-bf40-40ba-8f32-c6c1de668ea9",
   "metadata": {},
   "source": [
    "Algunas columnas son numéricas (tenure, MonthlyCharges, TotalCharges).\n",
    "Estas tienen escalas muy diferentes (ej: tenure puede ser hasta 72, MonthlyCharges hasta 120).\n",
    "Si no las normalizamos, los modelos pueden darle más importancia a las que tienen valores grandes.\n",
    "StandardScaler transforma cada columna a media 0 y desviación estándar 1 (z-score).\n"
   ]
  },
  {
   "cell_type": "markdown",
   "id": "9cb41d4f-8f35-4bb6-a5f0-8ad5d7766de5",
   "metadata": {},
   "source": [
    "Entrenamiento (train): 80% de los datos → para que el modelo aprenda.\n",
    "\n",
    "Prueba (test): 20% → para evaluar qué tan bien predice en datos nuevos.\n",
    "\n",
    "stratify=y asegura que la proporción de clientes que se fueron/no se fueron sea la misma en train y test (muy importante porque el dataset está desbalanceado: solo ~27% “Yes”).\n"
   ]
  },
  {
   "cell_type": "code",
   "execution_count": 18,
   "id": "505bf18d-72c4-4d8b-b4ba-960f4e5360b8",
   "metadata": {},
   "outputs": [
    {
     "name": "stdout",
     "output_type": "stream",
     "text": [
      "Tamaño Train: (5625, 30) | Tamaño Test: (1407, 30)\n",
      "✅ Archivo 'scaler_final.pkl' creado.\n",
      "Clases antes de SMOTE: Counter({0: 4130, 1: 1495})\n",
      "Clases balanceadas: Counter({0: 4130, 1: 4130})\n",
      "✅ Archivo 'modelo_final.pkl' creado.\n",
      "\n",
      "--- MÉTRICAS CON MODELO BALANCEADO (SMOTE) ---\n",
      "Accuracy: 0.7448471926083866\n",
      "Precision: 0.5140712945590994\n",
      "Recall: 0.732620320855615\n",
      "F1 Score: 0.6041896361631753\n",
      "ROC-AUC: 0.8208905581065481\n",
      "\n",
      "Matriz de confusión:\n",
      " [[774 259]\n",
      " [100 274]]\n"
     ]
    },
    {
     "data": {
      "image/png": "[encoded data removed]",
      "text/plain": [
       "<Figure size 640x480 with 1 Axes>"
      ]
     },
     "metadata": {},
     "output_type": "display_data"
    }
   ],
   "source": [
    "import pandas as pd\n",
    "import numpy as np\n",
    "import pickle\n",
    "from collections import Counter\n",
    "from sklearn.model_selection import train_test_split\n",
    "from sklearn.preprocessing import StandardScaler\n",
    "from sklearn.linear_model import LogisticRegression\n",
    "from sklearn.metrics import accuracy_score, recall_score, precision_score, f1_score, roc_auc_score, confusion_matrix, RocCurveDisplay\n",
    "from imblearn.over_sampling import SMOTE \n",
    "import matplotlib.pyplot as plt\n",
    "\n",
    "# Cargar datos\n",
    "df = pd.read_csv(\"WA_Fn-UseC_-Telco-Customer-Churn.csv\")\n",
    "\n",
    "\n",
    "# --------------------------\n",
    "# 2. LIMPIEZA Y PREPARACIÓN DE X / Y\n",
    "# --------------------------\n",
    "\n",
    "# Limpieza de 'TotalCharges' (F3) y manejo de nulos\n",
    "df[\"TotalCharges\"] = pd.to_numeric(df[\"TotalCharges\"], errors='coerce') \n",
    "df.dropna(inplace=True) \n",
    "\n",
    "\n",
    "# Definir Y (F2: objetivo) y X (F2: predictoras)\n",
    "df['Churn'] = df['Churn'].map({\"Yes\": 1, \"No\": 0}) \n",
    "y = df[\"Churn\"] \n",
    "X = df.drop(\"Churn\", axis=1)\n",
    "\n",
    "# One-Hot Encoding (F1)\n",
    "X = pd.get_dummies(X, drop_first=True)\n",
    "\n",
    "\n",
    "# --------------------------\n",
    "# 3. DIVISIÓN TRAIN-TEST (F4)\n",
    "# --------------------------\n",
    "X_train, X_test, y_train, y_test = train_test_split(\n",
    "    X, y, test_size=0.2, random_state=42, stratify=y\n",
    ")\n",
    "print(\"Tamaño Train:\", X_train.shape, \"| Tamaño Test:\", X_test.shape)\n",
    "\n",
    "\n",
    "# --------------------------\n",
    "# 4. ESCALADO Y GUARDADO DEL SCALER (F6)\n",
    "# --------------------------\n",
    "cols_num = [\"tenure\", \"MonthlyCharges\", \"TotalCharges\"] \n",
    "scaler = StandardScaler()\n",
    "\n",
    "# Ajustar y transformar X_train\n",
    "X_train[cols_num] = scaler.fit_transform(X_train[cols_num])\n",
    "\n",
    "# Transformar X_test (SOLO transform)\n",
    "X_test[cols_num] = scaler.transform(X_test[cols_num])\n",
    "\n",
    "# Guardar el scaler para Streamlit\n",
    "with open('scaler_final.pkl', 'wb') as file:\n",
    "    pickle.dump(scaler, file) \n",
    "print(\"✅ Archivo 'scaler_final.pkl' creado.\")\n",
    "\n",
    "\n",
    "# --------------------------\n",
    "# 5. BALANCEO DE CLASES CON SMOTE (F5)\n",
    "# --------------------------\n",
    "smote = SMOTE(random_state=42)\n",
    "X_train_resampled, y_train_resampled = smote.fit_resample(X_train, y_train)\n",
    "\n",
    "print(f\"Clases antes de SMOTE: {Counter(y_train)}\")\n",
    "print(f\"Clases balanceadas: {Counter(y_train_resampled)}\")\n",
    "\n",
    "\n",
    "# --------------------------\n",
    "# 6. ENTRENAMIENTO Y GUARDADO DEL MODELO (F8)\n",
    "# --------------------------\n",
    "log_model = LogisticRegression(max_iter=1000)\n",
    "log_model.fit(X_train_resampled, y_train_resampled)\n",
    "\n",
    "# Guardar el modelo para Streamlit\n",
    "with open('modelo_final.pkl', 'wb') as file:\n",
    "    pickle.dump(log_model, file)\n",
    "print(\"✅ Archivo 'modelo_final.pkl' creado.\")\n",
    "\n",
    "\n",
    "# --------------------------\n",
    "# 7. EVALUACIÓN FINAL Y MÉTRICAS (F7)\n",
    "# --------------------------\n",
    "y_pred = log_model.predict(X_test)\n",
    "y_proba = log_model.predict_proba(X_test)[:, 1]\n",
    "\n",
    "print(\"\\n--- MÉTRICAS CON MODELO BALANCEADO (SMOTE) ---\")\n",
    "print(\"Accuracy:\", accuracy_score(y_test, y_pred))\n",
    "print(\"Precision:\", precision_score(y_test, y_pred))\n",
    "print(\"Recall:\", recall_score(y_test, y_pred))\n",
    "print(\"F1 Score:\", f1_score(y_test, y_pred))\n",
    "print(\"ROC-AUC:\", roc_auc_score(y_test, y_proba))\n",
    "\n",
    "print(\"\\nMatriz de confusión:\\n\", confusion_matrix(y_test, y_pred))\n",
    "\n",
    "# Curva ROC\n",
    "RocCurveDisplay.from_estimator(log_model, X_test, y_test)\n",
    "plt.title(\"Curva ROC del Modelo Balanceado\")\n",
    "plt.show()"
   ]
  },
  {
   "cell_type": "markdown",
   "id": "0a7ada9d-ab1d-4c54-a171-d98d0f1ef3f7",
   "metadata": {},
   "source": [
    "Análisis del Sesgo y la Metodología SMOTE\n",
    "\n",
    "El modelo inicial de Regresión Logística, entrenado con datos desbalanceados, presentó un problema crítico de sesgo (demasiado pesimista). Esto se manifestó en una Precision muy baja (alrededor del 26.3%) y un Recall artificialmente alto (cerca del 96.8%).\n",
    "\n",
    "1. La Causa del Sesgo: Desbalance de Clases\n",
    "\n",
    "El desequilibrio era la raíz del problema. La clase minoritaria (Churn: Sí) era significativamente más pequeña que la clase mayoritaria (Churn: No). El modelo, al intentar minimizar errores, aprendió a adivinar \"No Abandono\" la mayor parte del tiempo, pero para compensar, terminó haciendo predicciones extremas. El resultado fue un modelo que detectaba a casi todos los que se iban (alto Recall), pero a costa de emitir una cantidad inaceptable de falsas alarmas (bajo Precision).\n",
    "\n",
    "2. La Solución Metodológica: SMOTE\n",
    "\n",
    "Para corregir este fallo fundamental, utilizamos SMOTE (Synthetic Minority Over-sampling Technique), una técnica avanzada de Resampling (Sobremuestreo).\n",
    "\n",
    "¿Qué es SMOTE? Es un método que crea nuevas muestras sintéticas para la clase minoritaria (\"Churn: Sí\"). SMOTE analiza los clientes existentes que abandonan y genera nuevos puntos de datos que son similares, pero no idénticos, a los originales, logrando balancear la distribución de las clases en el conjunto de entrenamiento.\n",
    "\n",
    "3. Impacto en los Resultados Finales\n",
    "\n",
    "El balanceo de clases forzó al modelo a aprender los patrones de riesgo de manera correcta, transformando el desempeño del modelo:\n",
    "\n",
    "- Equilibrio Logrado: Las métricas finales demuestran un equilibrio óptimo. El modelo es sensible sin ser excesivamente pesimista.\n",
    "\n",
    "- Recall Final (Sensibilidad): 0.733 — El modelo es muy efectivo, detectando al 73.3% de los clientes que realmente abandonan, lo cual es vital para las estrategias de retención.\n",
    "\n",
    "- Precision Final: 0.514 — Esta métrica se estabilizó, lo que significa que el 51.4% de las alertas de \"Abandono\" del modelo son correctas. Esto demuestra una gestión eficiente del costo de las intervenciones.\n",
    "\n",
    "- ROC-AUC Final: 0.821 — Este valor confirma la alta capacidad de discriminación del modelo, validando que el entrenamiento con SMOTE fue exitoso y el modelo es robusto para la clasificación de riesgo.\n",
    "\n"
   ]
  },
  {
   "cell_type": "code",
   "execution_count": null,
   "id": "79d512c3-ae9b-44d2-bba0-de6b7f02c8a4",
   "metadata": {},
   "outputs": [],
   "source": []
  }
 ],
 "metadata": {
  "kernelspec": {
   "display_name": "Python 3 (ipykernel)",
   "language": "python",
   "name": "python3"
  },
  "language_info": {
   "codemirror_mode": {
    "name": "ipython",
    "version": 3
   },
   "file_extension": ".py",
   "mimetype": "text/x-python",
   "name": "python",
   "nbconvert_exporter": "python",
   "pygments_lexer": "ipython3",
   "version": "3.13.5"
  }
 },
 "nbformat": 4,
 "nbformat_minor": 5
}
